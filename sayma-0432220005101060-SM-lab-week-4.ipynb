{
  "nbformat": 4,
  "nbformat_minor": 0,
  "metadata": {
    "colab": {
      "provenance": [],
      "authorship_tag": "ABX9TyMdT28nNqewG5RVtFF6GRES",
      "include_colab_link": true
    },
    "kernelspec": {
      "name": "python3",
      "display_name": "Python 3"
    },
    "language_info": {
      "name": "python"
    }
  },
  "cells": [
    {
      "cell_type": "markdown",
      "metadata": {
        "id": "view-in-github",
        "colab_type": "text"
      },
      "source": [
        "<a href=\"https://colab.research.google.com/github/Sayma-sudo/senulationlab/blob/main/sayma-0432220005101060-SM-lab-week-4.ipynb\" target=\"_parent\"><img src=\"https://colab.research.google.com/assets/colab-badge.svg\" alt=\"Open In Colab\"/></a>"
      ]
    },
    {
      "cell_type": "code",
      "execution_count": 3,
      "metadata": {
        "colab": {
          "base_uri": "https://localhost:8080/"
        },
        "id": "7tFCXjOzouYs",
        "outputId": "44f69a57-16cd-40b6-87fe-40a523e25cc6"
      },
      "outputs": [
        {
          "output_type": "stream",
          "name": "stdout",
          "text": [
            "Estimated pi for 1000 points is: 3.196\n",
            "Estimated pi for 5000 points is: 3.1048\n",
            "Estimated pi for 10000 points is: 3.1324\n"
          ]
        }
      ],
      "source": [
        "import random  # to create random numbers\n",
        "\n",
        "def estimate_pi(num_points):\n",
        "    inside = 0  # how many points inside the circle\n",
        "\n",
        "    for _ in range(num_points):\n",
        "        x = random.random()  # pick a random number from 0 to 1\n",
        "        y = random.random()\n",
        "\n",
        "        if x * x + y * y <= 1:\n",
        "            inside += 1  # it's inside the circle\n",
        "\n",
        "    pi = (inside / num_points) * 4  # multiply by 4 to get pi\n",
        "    print(\"Estimated pi for\", num_points, \"points is:\", pi)\n",
        "\n",
        "# Try this with different number of points\n",
        "estimate_pi(1000)\n",
        "estimate_pi(5000)\n",
        "estimate_pi(10000)\n"
      ]
    },
    {
      "cell_type": "code",
      "source": [
        "import random\n",
        "import numpy as np\n",
        "import math\n",
        "\n",
        "# Setup  ID = 60\n",
        "student_id = \"60\"\n",
        "R = int(student_id[-2:])     # Last two digits of ID\n",
        "range_max = R / 10           # Range for random numbers (0, R/10]\n",
        "radius = R / 10              # Circle radius is also R/10\n",
        "\n",
        "full_name = \"Sayma Islam\"\n",
        "letters_count = len(full_name.replace(\" \", \"\"))  # Count only letters\n",
        "base_points = 200 * letters_count                # Base number of points\n",
        "\n",
        "# Print radius and area\n",
        "area = math.pi * radius**2\n",
        "print(f\"Student ID: {student_id}, R = {R}\")\n",
        "print(f\"Range used for x and y: (0, {range_max}]\")\n",
        "print(f\"Circle radius: {radius:.4f}\")\n",
        "print(f\"Circle area: {area:.4f}\\n\")\n",
        "\n",
        "def is_inside_circle(x, y, radius):\n",
        "    return x**2 + y**2 <= radius**2\n",
        "\n",
        "def estimate_pi(num_points):\n",
        "    inside = 0\n",
        "    outside = 0\n",
        "\n",
        "    # Half points with random.uniform\n",
        "    for _ in range(num_points // 2):\n",
        "        x = random.uniform(0, range_max)\n",
        "        y = random.uniform(0, range_max)\n",
        "        if is_inside_circle(x, y, radius):\n",
        "            inside += 1\n",
        "        else:\n",
        "            outside += 1\n",
        "\n",
        "    # Half points with numpy.random.rand scaled\n",
        "    xs = np.random.rand(num_points // 2) * range_max\n",
        "    ys = np.random.rand(num_points // 2) * range_max\n",
        "    for x, y in zip(xs, ys):\n",
        "        if is_inside_circle(x, y, radius):\n",
        "            inside += 1\n",
        "        else:\n",
        "            outside += 1\n",
        "\n",
        "    # Adjusted pi estimation\n",
        "    estimated_pi = (inside / num_points) * ((range_max ** 2) / (radius ** 2)) * 4\n",
        "    error = abs(math.pi - estimated_pi)\n",
        "\n",
        "    return inside, outside, estimated_pi, error\n",
        "\n",
        "print(f\"{'Range Used':<12} {'Total Points':<14} {'Points Inside':<15} {'Estimated π':<15} {'Error':<15}\")\n",
        "\n",
        "for i in range(1, 6):\n",
        "    total_points = base_points * i\n",
        "    inside, outside, est_pi, err = estimate_pi(total_points)\n",
        "    print(f\"{range_max:<12.2f} {total_points:<14} {inside:<15} {est_pi:<15.6f} {err:<15.6f}\")\n",
        "\n"
      ],
      "metadata": {
        "colab": {
          "base_uri": "https://localhost:8080/"
        },
        "id": "FqRplhN8sDCv",
        "outputId": "49bb6772-bd7f-4a98-b4ff-7bdf609dbf36"
      },
      "execution_count": 8,
      "outputs": [
        {
          "output_type": "stream",
          "name": "stdout",
          "text": [
            "Student ID: 60, R = 60\n",
            "Range used for x and y: (0, 6.0]\n",
            "Circle radius: 6.0000\n",
            "Circle area: 113.0973\n",
            "\n",
            "Range Used   Total Points   Points Inside   Estimated π     Error          \n",
            "6.00         2000           1599            3.198000        0.056407       \n",
            "6.00         4000           3097            3.097000        0.044593       \n",
            "6.00         6000           4676            3.117333        0.024259       \n",
            "6.00         8000           6264            3.132000        0.009593       \n",
            "6.00         10000          7941            3.176400        0.034807       \n"
          ]
        }
      ]
    }
  ]
}